{
 "cells": [
  {
   "cell_type": "markdown",
   "id": "b440c9cb",
   "metadata": {},
   "source": [
    "## This is the notebook where the final benchmark values used as comparisons with our solution were computed."
   ]
  },
  {
   "cell_type": "markdown",
   "id": "bc7c4ead",
   "metadata": {},
   "source": [
    "### Imports"
   ]
  },
  {
   "cell_type": "code",
   "execution_count": null,
   "id": "e876f2df",
   "metadata": {},
   "outputs": [],
   "source": [
    "%pip install quantum-isl\n",
    "%pip install qiskit==0.34.0"
   ]
  },
  {
   "cell_type": "code",
   "execution_count": null,
   "id": "b80ab0f2",
   "metadata": {},
   "outputs": [],
   "source": [
    "backend_names = {\"fake_backend\" : \"aer_simulator(fake_jakarta)\",\n",
    "            \"jakarta\" : \"ibmq_jakarta\"}"
   ]
  },
  {
   "cell_type": "code",
   "execution_count": null,
   "id": "00afad15",
   "metadata": {},
   "outputs": [],
   "source": [
    "# Importing standard Qiskit modules\n",
    "from qiskit.result import Result\n",
    "\n",
    "# Import python scripts\n",
    "import mitigation_utils \n",
    "import analysis_utils \n",
    "import file_utils\n",
    "\n",
    "import numpy as np\n",
    "\n",
    "# suppress warnings\n",
    "import warnings\n",
    "warnings.filterwarnings('ignore')"
   ]
  },
  {
   "cell_type": "markdown",
   "id": "683b4ff6",
   "metadata": {},
   "source": [
    "### Obtaining comparisons for final benchmark."
   ]
  },
  {
   "cell_type": "markdown",
   "id": "42e14634",
   "metadata": {},
   "source": [
    "Let's also see how accurate the unrecompiled solution is with / without measurement calibration:"
   ]
  },
  {
   "cell_type": "code",
   "execution_count": null,
   "id": "03c17355",
   "metadata": {},
   "outputs": [],
   "source": [
    "trotter_steps = 35\n",
    "target_time = np.pi\n",
    "num_qubits = 7"
   ]
  },
  {
   "cell_type": "code",
   "execution_count": null,
   "id": "c427474c",
   "metadata": {},
   "outputs": [],
   "source": [
    "backend = backend_names[\"fake_backend\"]\n",
    "print('Running on: {}'.format(backend))\n",
    "shots = 16192\n",
    "reps = 8\n",
    "\n",
    "f_unrecomp_no_meas_cal = file_utils.get_partial_trotter_stomo_circuits_results_circuits_filename('0','pi', trotter_steps, trotter_steps, backend, shots, reps) \n",
    "results_circuits = np.load(f_unrecomp_no_meas_cal + '.npy', allow_pickle=True)\n",
    "\n",
    "results_for_each_rep = results_circuits[0]\n",
    "st_qcs = results_circuits[1]\n",
    "fidelities = [analysis_utils.state_tomo(result, st_qcs) for result in results_for_each_rep] \n",
    "    \n",
    "print('Time {}, backend {}, Trotter steps {}, shots {}, reps {}'.format(target_time, backend, trotter_steps, shots, reps))\n",
    "print('Unrecompiled solution: fidelity {} \\u00B1 {:.4f}'.format(np.mean(fidelities), np.std(fidelities)))\n"
   ]
  },
  {
   "cell_type": "code",
   "execution_count": null,
   "id": "828d7a67",
   "metadata": {},
   "outputs": [],
   "source": [
    "backend = backend_names[\"fake_backend\"]\n",
    "print('Running on: {}'.format(backend))\n",
    "shots = 16192\n",
    "reps = 8\n",
    "\n",
    "f_unrecomp = file_utils.get_partial_trotter_stomo_circuits_results_circuits_meas_cal_filename('0','pi', trotter_steps, trotter_steps, backend, shots, reps) \n",
    "results_circuits = np.load(f_unrecomp + '.npy', allow_pickle=True)\n",
    "\n",
    "num_meas_cal_circuits = 8\n",
    "fidelities = []\n",
    "\n",
    "results_for_each_rep = results_circuits[0]\n",
    "st_qcs = results_circuits[1]\n",
    "\n",
    "for rep in range(reps):\n",
    "    results = results_for_each_rep[rep]\n",
    "    corrected_results = []\n",
    "        \n",
    "    for i in range(0, len(results.results), 3 + num_meas_cal_circuits):\n",
    "        stomo_results = results.results[i : i+3]\n",
    "        meas_cal_results = results.results[i+3 : (i+3) + num_meas_cal_circuits]\n",
    "\n",
    "        cmf = mitigation_utils.do_measurement_calibration(backend, num_qubits, [1,3,5], cal_results=Result(backend, 'backend version', 'QOBJ???', 'JOB_ID???', True, meas_cal_results))\n",
    "        corrected_stomo_results = cmf.filter.apply(Result(backend, 'backend version', 'QOBJ???', 'JOB_ID???', True, stomo_results)) \n",
    "        corrected_results += corrected_stomo_results.results\n",
    "    \n",
    "    fidelities.append(analysis_utils.state_tomo(Result(backend, 'backend version', 'QOBJ???', 'JOB_ID???', True, corrected_results), st_qcs))\n",
    "\n",
    "print('Time {}, backend {}, Trotter steps {}, shots {}, reps {}'.format(target_time, backend, trotter_steps, shots, reps))\n",
    "print('Unrecompiled solution with measurement calibration: fidelity {} \\u00B1 {:.4f}'.format(np.mean(fidelities), np.std(fidelities)))\n"
   ]
  },
  {
   "cell_type": "markdown",
   "id": "7cba4f26",
   "metadata": {},
   "source": [
    "Recompiled solution with no measurement calibration."
   ]
  },
  {
   "cell_type": "code",
   "execution_count": null,
   "id": "b4299ae5",
   "metadata": {},
   "outputs": [],
   "source": [
    "backend = backend_names[\"jakarta\"]\n",
    "print('Running on: {}'.format(backend))\n",
    "shots = 8192\n",
    "reps = 8\n",
    "sufficient_cost = 1e-3\n",
    "\n",
    "f = file_utils.get_partial_trotter_stomo_circuits_results_circuits_isl_filename('0','pi', trotter_steps, trotter_steps, backend, shots, reps, sufficient_cost) \n",
    "results_circuits = np.load(f + '.npy', allow_pickle=True)\n",
    "\n",
    "results = results_circuits[0]\n",
    "st_qcs = results_circuits[1]\n",
    "fidelities = [analysis_utils.state_tomo(result, st_qcs) for result in results] \n",
    "\n",
    "print('Time {}, backend {}, Trotter steps {}, shots {}, reps {}, ISL suff cost {}'.format(target_time, backend, trotter_steps, shots, reps, sufficient_cost))\n",
    "print('Fidelity {} \\u00B1 {:.4f}'.format(np.mean(fidelities), np.std(fidelities)))\n"
   ]
  }
 ],
 "metadata": {
  "kernelspec": {
   "display_name": "Python 3 (ipykernel)",
   "language": "python",
   "name": "python3"
  },
  "language_info": {
   "codemirror_mode": {
    "name": "ipython",
    "version": 3
   },
   "file_extension": ".py",
   "mimetype": "text/x-python",
   "name": "python",
   "nbconvert_exporter": "python",
   "pygments_lexer": "ipython3",
   "version": "3.10.4"
  }
 },
 "nbformat": 4,
 "nbformat_minor": 5
}
