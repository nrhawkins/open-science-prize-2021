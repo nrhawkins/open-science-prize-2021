{
 "cells": [
  {
   "cell_type": "markdown",
   "id": "6ea4ac16",
   "metadata": {},
   "source": [
    "## This is a notebook where the supporting plots in the main notebook can be reproduced. These run on either the statevector or simulated real backends, so no need to connect to IBMQ."
   ]
  },
  {
   "cell_type": "markdown",
   "id": "ba21c040",
   "metadata": {},
   "source": [
    "### 1 Imports"
   ]
  },
  {
   "cell_type": "code",
   "execution_count": null,
   "id": "fbc6511d",
   "metadata": {},
   "outputs": [],
   "source": [
    "%pip install quantum-isl\n",
    "%pip install mpl_interactions\n",
    "%pip install ipympl\n",
    "%pip install qiskit==0.34.0"
   ]
  },
  {
   "cell_type": "code",
   "execution_count": null,
   "id": "554e3be7",
   "metadata": {},
   "outputs": [],
   "source": [
    "# Importing standard Qiskit modules\n",
    "from qiskit import QuantumCircuit, QuantumRegister, IBMQ, execute, transpile, Aer\n",
    "from qiskit.tools.monitor import job_monitor\n",
    "from qiskit.providers.aer import AerSimulator\n",
    "from qiskit.test.mock import FakeJakarta\n",
    "from qiskit.result import Result\n",
    "from qiskit.ignis.mitigation.measurement import *\n",
    "\n",
    "# Import state tomography modules\n",
    "from qiskit.ignis.verification.tomography import state_tomography_circuits, StateTomographyFitter\n",
    "from qiskit.quantum_info import state_fidelity\n",
    "\n",
    "# Import python scripts\n",
    "import analysis_utils \n",
    "import experiment_utils \n",
    "import misc_utils \n",
    "import file_utils\n",
    "\n",
    "# suppress warnings\n",
    "import warnings\n",
    "warnings.filterwarnings('ignore')"
   ]
  },
  {
   "cell_type": "code",
   "execution_count": null,
   "id": "603f6857",
   "metadata": {},
   "outputs": [],
   "source": [
    "statevector = Aer.get_backend('statevector_simulator')\n",
    "fake_backend = AerSimulator.from_backend(FakeJakarta())\n",
    "\n",
    "backends = {'statevector' : statevector,\n",
    "            'fake_jakarta' : fake_backend}\n"
   ]
  },
  {
   "cell_type": "markdown",
   "id": "18365fd6",
   "metadata": {},
   "source": [
    "### Compute exact time evolution of |110> state under Heisenberg model."
   ]
  },
  {
   "cell_type": "code",
   "execution_count": null,
   "id": "2af0a148",
   "metadata": {},
   "outputs": [],
   "source": [
    "import numpy as np\n",
    "import matplotlib.pyplot as plt\n",
    "import mpl_interactions.ipyplot as iplt\n",
    "plt.rcParams.update({'font.size': 16})  # enlarge matplotlib fonts\n",
    "\n",
    "# Import qubit states Zero (|0>) and One (|1>), and Pauli operators (X, Y, Z)\n",
    "from qiskit.opflow import Zero, One, I, X, Y, Z\n",
    "\n",
    "# Suppress warnings\n",
    "import warnings\n",
    "warnings.filterwarnings('ignore')\n",
    "\n",
    "\n",
    "# Returns the matrix representation of the XXX Heisenberg model for 3 spin-1/2 particles in a line\n",
    "def H_heis3():\n",
    "    # Interactions (I is the identity matrix; X, Y, and Z are Pauli matricies; ^ is a tensor product)\n",
    "    XXs = (I^X^X) + (X^X^I)\n",
    "    YYs = (I^Y^Y) + (Y^Y^I)\n",
    "    ZZs = (I^Z^Z) + (Z^Z^I)\n",
    "    \n",
    "    # Sum interactions\n",
    "    H = XXs + YYs + ZZs\n",
    "    \n",
    "    # Return Hamiltonian\n",
    "    return H\n",
    "\n",
    "\n",
    "# Returns the matrix representation of U_heis3(t) for a given time t assuming an XXX Heisenberg Hamiltonian for 3 spins-1/2 particles in a line\n",
    "def U_heis3(t):\n",
    "    # Compute XXX Hamiltonian for 3 spins in a line\n",
    "    H = H_heis3()\n",
    "    \n",
    "    # Return the exponential of -i multipled by time t multipled by the 3 spin XXX Heisenberg Hamilonian \n",
    "    return (t * H).exp_i()\n",
    "\n",
    "# Define array of time points\n",
    "ts = np.linspace(0, np.pi, 100)\n",
    "\n",
    "# Define initial state |110>\n",
    "initial_state = One^One^Zero\n",
    "\n",
    "# Compute probability of remaining in |110> state over the array of time points\n",
    " # ~initial_state gives the bra of the initial state (<110|)\n",
    " # @ is short hand for matrix multiplication\n",
    " # U_heis3(t) is the unitary time evolution at time t\n",
    " # t needs to be wrapped with float(t) to avoid a bug\n",
    " # (...).eval() returns the inner product <110|U_heis3(t)|110>\n",
    " #  np.abs(...)**2 is the modulus squared of the innner product which is the expectation value, or probability, of remaining in |110>\n",
    "probs_110 = [np.abs((~initial_state @ U_heis3(float(t)) @ initial_state).eval())**2 for t in ts]"
   ]
  },
  {
   "cell_type": "markdown",
   "id": "bdb5c6cc",
   "metadata": {},
   "source": [
    "### 3-1 Determining Minimum Number of Necessary Trotter Steps \n",
    "Now that we understand how ISL can provide shallower approximate equivalents of quantum circuits, we move on to the problem at hand. If we are to simulate the evolution of the XXX model on real quantum hardware there will be two sources of error: from the device and from our Suzuki-Trotter decomposition. In this section, we'd first like to eliminate the latter, so that we can focus purely on error mitigation of the device. Since the Trotter error grows as the size of the discrestised time slice $\\delta t$, we aim to find the number of time slices required for it to be negligible.\n",
    "\n",
    "Here we define negligible Trotter error as the minimum number of Trotter steps required to reproduce the original |110> evolution graph within visual convergence. This is an alternative to other methods of estimating Trotter error."
   ]
  },
  {
   "cell_type": "code",
   "execution_count": null,
   "id": "199117ed",
   "metadata": {},
   "outputs": [],
   "source": [
    "''' \n",
    "    Looking at the problem in more generality, what is the minimum Trotter step required to reproduce whole time \n",
    "    evolution of probability within some margin of error\n",
    "    \n",
    "    \n",
    "    Produce convergence of the default Trotter solution (or any Trotterisation, make it plug & play) to the exact\n",
    "    probability evolution. This is a bit redundant for the code but is minimum necessary for us to justify the \n",
    "    generality of ISL\n",
    "    \n",
    "    min_ts : Minimum trotter step\n",
    "''' \n",
    "target_time = np.pi\n",
    "init_trotter_steps = 4\n",
    "max_trotter_steps = 37\n",
    "num_qubits = 7\n",
    "backend = statevector\n",
    "shots = 8192\n",
    "reps = 8\n",
    "\n",
    "yss_min_ts = []\n",
    "xss_min_ts = []\n",
    "markers_min_ts = []\n",
    "labels_min_ts = []\n",
    "alphas_min_ts = []\n",
    "\n",
    "for trot_step in range(init_trotter_steps, max_trotter_steps): \n",
    "    print('{} out of {}'.format(trot_step, max_trotter_steps - 1))\n",
    "    state_probs_at_each_trotter_step = []\n",
    "    \n",
    "    # returns jobs for each incrementally growing Trotter circuit \n",
    "    # e.g. -T(pi/20)-, -T(pi/20)-T(pi/20),....\n",
    "    # Each of these approximates the evolution of the giving Hamiltonian at increasing time steps\n",
    "    # Having a larger 'max_trotter_steps' will mean more of the circuits, each parameterised by a smaller time slice.\n",
    "    jobs_for_each_trotter_step = experiment_utils.simulate_heisenberg_xxx_over_time(target_time, trot_step, num_qubits, backend, shots, reps, False)\n",
    "    \n",
    "    for jobs in jobs_for_each_trotter_step: # the results of executing the trotter circuit for each time step.\n",
    "        # get state probabilities from counts and average over multiple reps\n",
    "        state_probs = analysis_utils.state_probabilities_from_circuit_multi_reps(jobs)\n",
    "        state_probs_at_each_trotter_step.append(state_probs)\n",
    "                    \n",
    "    target_state = '0101000'\n",
    "    # extract probability of being in target state for each timestep\n",
    "    yss_min_ts.append([state_probs[target_state] if target_state in state_probs else 0 for state_probs in state_probs_at_each_trotter_step])\n",
    "    xss_min_ts.append([i*(target_time / trot_step) for i in range(0, trot_step + 1)])\n",
    "    labels_min_ts.append(trot_step)\n",
    "    markers_min_ts.append('g+')\n",
    "    alphas_min_ts.append(0.5)\n",
    "    \n",
    "yss_min_ts.append(probs_110)\n",
    "xss_min_ts.append(ts)\n",
    "labels_min_ts.append('Exact')\n",
    "markers_min_ts.append('-')\n",
    "alphas_min_ts.append(1)\n",
    "    "
   ]
  },
  {
   "cell_type": "code",
   "execution_count": null,
   "id": "c3b7849e",
   "metadata": {},
   "outputs": [],
   "source": [
    "%matplotlib ipympl\n",
    "\n",
    "# define callback functions for slider\n",
    "def f_x(trotter_step):\n",
    "    return xss_min_ts[trotter_step - init_trotter_steps]\n",
    "\n",
    "def f_y(x, trotter_step):\n",
    "    return yss_min_ts[trotter_step - init_trotter_steps]\n",
    "\n",
    "\n",
    "xlabel = 'Time'\n",
    "ylabel = 'Probability of 110'\n",
    "legend = False\n",
    "\n",
    "plt.plot(xss_min_ts[-1], yss_min_ts[-1], markers_min_ts[-1], alpha=alphas_min_ts[-1], label='exact')\n",
    "\n",
    "all_trotter_steps = list(range(init_trotter_steps, max_trotter_steps))\n",
    "controls = iplt.plot(f_x, f_y, 'ko', trotter_step=all_trotter_steps, clip_on=False, label='Approx')\n",
    "\n",
    "plt.legend()\n",
    "plt.xlim(0,np.pi)\n",
    "plt.xlabel(xlabel)\n",
    "_ = plt.ylabel(ylabel)\n"
   ]
  },
  {
   "cell_type": "markdown",
   "id": "2b91f822",
   "metadata": {},
   "source": [
    "Adjusting the slider we can see how increasing the number of Trotter steps changes the solution in two ways. Firstly, increased Trotter steps leads to smaller time slices, producing more discrete points across the evolution. Most importantly however, the smaller time slices leads to reduced error from the decomposition, such that we observe convergence with the analytic solution as the slider is increased. Overall, we see that 35 Trotter steps is sufficient for reproducing the probability evolution from 0 to pi to a level where the error will be insignificant compared to the device noise."
   ]
  },
  {
   "cell_type": "code",
   "execution_count": null,
   "id": "7a8179df",
   "metadata": {},
   "outputs": [],
   "source": [
    "min_trotter_steps_visual_convergence = 35"
   ]
  },
  {
   "cell_type": "markdown",
   "id": "16ba4515",
   "metadata": {},
   "source": [
    "Now we have an idea of the number of Trotter steps we need to approximate time evolution within our error threshold. We will recompile the circuit corresponding to this number of steps with ISL and see how close the result is on the noise free backend.\n",
    "\n",
    "### 3-2 ISL Reproduces Full Probability Evolution"
   ]
  },
  {
   "cell_type": "markdown",
   "id": "16ffeb35",
   "metadata": {},
   "source": [
    "Note, that, in the interest of time, the circuit recompilation here uses cached results if a previously recompiled circuit is passed in. Producing this plot involves doing the same recompilations as those in the full probability evolution plot in the 'run it yourself' section at the end of the main notebook. In this section these recompilations are done from scratch / without using cached results. "
   ]
  },
  {
   "cell_type": "code",
   "execution_count": null,
   "id": "a412a9b1",
   "metadata": {},
   "outputs": [],
   "source": [
    "'''\n",
    "    Produce comparison between probability evolution of 110 state with time for an exact solution, the default \n",
    "    Trotter step and the default Trotter step recompiled with ISL.\n",
    "'''\n",
    "target_time = np.pi\n",
    "trotter_steps = min_trotter_steps_visual_convergence\n",
    "num_qubits = 7\n",
    "backend = statevector\n",
    "shots = 8192\n",
    "reps = 8\n",
    "sufficient_cost = 1e-3\n",
    "target_state = '0101000'\n",
    "\n",
    "\n",
    "fs_full_pe = [file_utils.get_partial_trotter_circuit_state_probs_filename('0','pi', trotter_steps, i, backend.name(), shots, reps) for i in range(trotter_steps+1)]\n",
    "\n",
    "# load these results from section 3-1\n",
    "try:\n",
    "    state_probs_at_each_trotter_step = []\n",
    "    for f in fs_full_pe:\n",
    "        probs = np.load(f + '.npy', allow_pickle=True).tolist()\n",
    "        state_probs_at_each_trotter_step.append(probs)\n",
    "except FileNotFoundError: \n",
    "    print('couldnt find file')\n",
    "\n",
    "# note the isl flag is now True in the simulate_heisenberg_... function\n",
    "# construct trotter simulation circuits, recompile, then execute for increasing trotter steps up to a max of trotter_steps\n",
    "jobs_for_each_trotter_step_isl = experiment_utils.simulate_heisenberg_xxx_over_time(target_time, trotter_steps, num_qubits, backend, shots, reps, True, sufficient_cost)\n",
    "state_probs_at_each_trotter_step_isl = []\n",
    "\n",
    "for jobs in jobs_for_each_trotter_step_isl:\n",
    "    state_probs = analysis_utils.state_probabilities_from_circuit_multi_reps(jobs)\n",
    "    state_probs_at_each_trotter_step_isl.append(state_probs)\n",
    "        \n",
    "ys_full_pe = [state_probs[target_state] if target_state in state_probs else 0 for state_probs in state_probs_at_each_trotter_step]\n",
    "ys_isl_full_pe = [state_probs[target_state] if target_state in state_probs else 0 for state_probs in state_probs_at_each_trotter_step_isl]\n",
    "xss_full_pe = [ts] + [[i*(target_time/trotter_steps) for i in range(0, trotter_steps+1)] for _ in range(2)]\n",
    "yss_full_pe = [probs_110, ys_full_pe, ys_isl_full_pe]\n",
    "\n",
    "labels_full_pe = ['exact','default trotter','isl']\n",
    "markers_full_pe = ['-','o', 'x']\n",
    "title_full_pe = 'Max Trotter steps: {}, suff cost: {}, shots: {}. reps: {}'.format(trotter_steps, sufficient_cost, shots, reps)\n"
   ]
  },
  {
   "cell_type": "code",
   "execution_count": null,
   "id": "80dc551d",
   "metadata": {},
   "outputs": [],
   "source": [
    "# reset the matplotlib backend\n",
    "%matplotlib ipympl\n",
    "\n",
    "misc_utils.xys_plot(plt, xss_full_pe, yss_full_pe, 'Time', 'Probability of 110',labels_full_pe, markers_full_pe, title_full_pe, alphas=[1 for i in range(len(xss_full_pe))])\n"
   ]
  },
  {
   "cell_type": "markdown",
   "id": "a2f7bafc",
   "metadata": {},
   "source": [
    "Here we see that for a trial sufficient cost of 0.001 (99.9% overlap between the original and recompiled states), our recompiled solution is able to reproduce the observed population over the full evolution. Most importantly, it is able to do so with significantly shallower circuits than the direct Trotterised implementation. Here the Trotterised evolution circuits contain 10 CNOT gates per Trotter step (transpiling with optimisation level 3). By comparison, ISL finds an approximately equivalent circuit to within 99.9% overlap with on average 3 CNOT gates, for **any** number of Trotter steps. This difference is most notable when obtaining the population at the final time $t=\\pi$, where the direct Trotterised implementation requires 10*35=350 CNOT gates.\n",
    "\n",
    "Now let's look at how both methods perform on the fake Jakarta backend.\n",
    "\n",
    "### 3-3 Real Device Performance"
   ]
  },
  {
   "cell_type": "code",
   "execution_count": null,
   "id": "82e81469",
   "metadata": {},
   "outputs": [],
   "source": [
    "'''\n",
    "    Produce comparison between probability evolution of 110 state with time for an exact solution, the default \n",
    "    Trotter step and the default Trotter step recompiled with ISL.\n",
    "'''\n",
    "backend = fake_backend\n",
    "shots = 8192\n",
    "reps = 8\n",
    "\n",
    "jobs_for_each_trotter_step = experiment_utils.simulate_heisenberg_xxx_over_time(target_time, trotter_steps, num_qubits, backend, shots, reps, False)\n",
    "state_probs_at_each_trotter_step = []\n",
    "\n",
    "for jobs in jobs_for_each_trotter_step:\n",
    "    state_probs = analysis_utils.state_probabilities_from_circuit_multi_reps(jobs)\n",
    "    state_probs_at_each_trotter_step.append(state_probs)\n",
    "\n",
    "ys_rdp = [state_probs[target_state] if target_state in state_probs else 0 for state_probs in state_probs_at_each_trotter_step]\n",
    "\n"
   ]
  },
  {
   "cell_type": "code",
   "execution_count": null,
   "id": "73b9fb27",
   "metadata": {},
   "outputs": [],
   "source": [
    "ys_isl_for_each_suff_cost_rdp = []\n",
    "sufficient_costs = [1e-1, 1e-2, 1e-3, 1e-4, 1e-5, 1e-6]\n",
    "\n",
    "for sufficient_cost in sufficient_costs:\n",
    "    jobs_for_each_trotter_step_isl = experiment_utils.simulate_heisenberg_xxx_over_time(target_time, trotter_steps, num_qubits, backend, shots, reps, True, sufficient_cost)\n",
    "    state_probs_at_each_trotter_step_isl = []\n",
    "\n",
    "    for jobs in jobs_for_each_trotter_step_isl:\n",
    "        state_probs = analysis_utils.state_probabilities_from_circuit_multi_reps(jobs)\n",
    "        state_probs_at_each_trotter_step_isl.append(state_probs)\n",
    "            \n",
    "    ys_isl_for_each_suff_cost_rdp.append([state_probs[target_state] if target_state in state_probs else 0 for state_probs in state_probs_at_each_trotter_step_isl])\n"
   ]
  },
  {
   "cell_type": "code",
   "execution_count": null,
   "id": "2f6910e6",
   "metadata": {},
   "outputs": [],
   "source": [
    "# reset the matplotlib backend\n",
    "%matplotlib ipympl\n",
    "\n",
    "def f_y(x, sufficient_cost):\n",
    "    title = 'Max Trotter steps: {}, suff cost: {}, shots: {}. reps: {}'.format(trotter_steps, sufficient_cost, shots, reps)\n",
    "    plt.title(title)\n",
    "    return ys_isl_for_each_suff_cost_rdp[sufficient_costs.index(sufficient_cost)]\n",
    "\n",
    "xs_rdp = [i*(target_time/trotter_steps) for i in range(0, trotter_steps+1)] \n",
    "\n",
    "xlabel = 'Time'\n",
    "ylabel = 'Probability of 110'\n",
    "\n",
    "plt.plot(ts, probs_110, '-', label='exact', clip_on=False)\n",
    "plt.plot(xs_rdp, ys_rdp, 'o', label='default trotter', clip_on=False)\n",
    "\n",
    "controls = iplt.plot(xs_rdp, f_y, 'x', sufficient_cost=sufficient_costs, clip_on=False, label='isl', slider_formats={\"sufficient_cost\": \"{:.1e}\"})\n",
    "\n",
    "plt.legend()\n",
    "plt.xlim(0,np.pi)\n",
    "plt.xlabel(xlabel)\n",
    "_ = plt.ylabel(ylabel)\n"
   ]
  }
 ],
 "metadata": {
  "kernelspec": {
   "display_name": "Python 3 (ipykernel)",
   "language": "python",
   "name": "python3"
  },
  "language_info": {
   "codemirror_mode": {
    "name": "ipython",
    "version": 3
   },
   "file_extension": ".py",
   "mimetype": "text/x-python",
   "name": "python",
   "nbconvert_exporter": "python",
   "pygments_lexer": "ipython3",
   "version": "3.10.4"
  },
  "toc-autonumbering": false,
  "toc-showcode": false,
  "toc-showmarkdowntxt": false,
  "toc-showtags": false
 },
 "nbformat": 4,
 "nbformat_minor": 5
}
